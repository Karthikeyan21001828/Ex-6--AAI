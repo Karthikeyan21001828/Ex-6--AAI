{
  "nbformat": 4,
  "nbformat_minor": 0,
  "metadata": {
    "colab": {
      "provenance": []
    },
    "kernelspec": {
      "name": "python3",
      "display_name": "Python 3"
    },
    "language_info": {
      "name": "python"
    }
  },
  "cells": [
    {
      "cell_type": "code",
      "source": [
        "import nltk\n",
        "nltk.download('punkt')\n",
        "nltk.download('wordnet')\n",
        "from nltk.tokenize import word_tokenize\n",
        "nltk.download('averaged_perceptron_tagger')\n",
        "sentence=input()"
      ],
      "metadata": {
        "colab": {
          "base_uri": "https://localhost:8080/"
        },
        "id": "1fuzICgAKb9t",
        "outputId": "2951fde1-ac1f-4ddb-8102-19d0aa2b0d41"
      },
      "execution_count": 3,
      "outputs": [
        {
          "output_type": "stream",
          "name": "stderr",
          "text": [
            "[nltk_data] Downloading package punkt to /root/nltk_data...\n",
            "[nltk_data]   Package punkt is already up-to-date!\n",
            "[nltk_data] Downloading package wordnet to /root/nltk_data...\n",
            "[nltk_data]   Package wordnet is already up-to-date!\n",
            "[nltk_data] Downloading package averaged_perceptron_tagger to\n",
            "[nltk_data]     /root/nltk_data...\n",
            "[nltk_data]   Package averaged_perceptron_tagger is already up-to-\n",
            "[nltk_data]       date!\n"
          ]
        },
        {
          "name": "stdout",
          "output_type": "stream",
          "text": [
            "Many people eat cereal for breakfast.\n"
          ]
        }
      ]
    },
    {
      "cell_type": "code",
      "source": [
        "# Tokenize the sentence into words\n",
        "words = word_tokenize(sentence)"
      ],
      "metadata": {
        "id": "m9koT7PCMlks"
      },
      "execution_count": 4,
      "outputs": []
    },
    {
      "cell_type": "code",
      "source": [
        "# Identify the parts of speech for each word\n",
        "pos_tags= nltk.pos_tag(words)"
      ],
      "metadata": {
        "id": "1nzh4j9bMxt6"
      },
      "execution_count": 5,
      "outputs": []
    },
    {
      "cell_type": "code",
      "source": [
        "# Print the parts of speech\n",
        "for word, tag in pos_tags:\n",
        "\tprint(word, tag)"
      ],
      "metadata": {
        "colab": {
          "base_uri": "https://localhost:8080/"
        },
        "id": "b7_Pr-9BMy41",
        "outputId": "0a6bb241-180d-4b90-dc54-524f8437ad40"
      },
      "execution_count": 6,
      "outputs": [
        {
          "output_type": "stream",
          "name": "stdout",
          "text": [
            "Many JJ\n",
            "people NNS\n",
            "eat VBP\n",
            "cereal NN\n",
            "for IN\n",
            "breakfast NN\n",
            ". .\n"
          ]
        }
      ]
    },
    {
      "cell_type": "code",
      "source": [
        "from nltk.corpus import wordnet\n",
        "# Identify synonyms and antonyms for each word\n",
        "synonyms =[]\n",
        "antonyms =[]\n",
        "for word in words:\n",
        "\tfor syn in wordnet.synsets(word) :\n",
        "\t\tfor lemma in syn.lemmas():\n",
        "\t\t\tsynonyms.append(lemma.name())\n",
        "\t\t\tif lemma.antonyms():\n",
        "\t\t\t\tantonyms.append(lemma.antonyms()[0].name())"
      ],
      "metadata": {
        "id": "2fK6qV-SM039"
      },
      "execution_count": 7,
      "outputs": []
    },
    {
      "cell_type": "code",
      "source": [
        "# Print the synonyms and antonyms\n",
        "print(\"Synonyms: \", set(synonyms))\n",
        "print(\"Antonyms: \", set(antonyms))"
      ],
      "metadata": {
        "colab": {
          "base_uri": "https://localhost:8080/"
        },
        "id": "HRYBSDbDM3w_",
        "outputId": "488f0fa3-f13d-461d-fa5b-af3f0f585d5d"
      },
      "execution_count": 8,
      "outputs": [
        {
          "output_type": "stream",
          "name": "stdout",
          "text": [
            "Synonyms:  {'the_great_unwashed', 'rust', 'corrode', 'citizenry', 'feed', 'grain', 'breakfast', 'many', 'deplete', 'use_up', 'food_grain', 'hoi_polloi', 'cereal_grass', 'eat_on', 'wipe_out', 'cereal', 'exhaust', 'masses', 'mass', 'run_through', 'multitude', 'people', 'eat_up', 'eat', 'consume'}\n",
            "Antonyms:  {'few'}\n"
          ]
        }
      ]
    },
    {
      "cell_type": "code",
      "source": [],
      "metadata": {
        "id": "e7-zu6-ZM4Er"
      },
      "execution_count": null,
      "outputs": []
    }
  ]
}